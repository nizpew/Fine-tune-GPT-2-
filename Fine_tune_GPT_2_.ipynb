{
  "cells": [
    {
      "cell_type": "code",
      "execution_count": 1,
      "metadata": {
        "id": "Zwk_N6hJ0B80"
      },
      "outputs": [],
      "source": [
        "!pip install transformers datasets accelerate --quiet\n"
      ]
    },
    {
      "cell_type": "code",
      "execution_count": 2,
      "metadata": {
        "colab": {
          "base_uri": "https://localhost:8080/",
          "height": 78
        },
        "id": "l6BycMQV0Nha",
        "outputId": "ad6d7758-b4fc-46aa-dc87-cfefd3eff477"
      },
      "outputs": [
        {
          "output_type": "display_data",
          "data": {
            "text/plain": [
              "<IPython.core.display.HTML object>"
            ],
            "text/html": [
              "\n",
              "     <input type=\"file\" id=\"files-8c86437c-0e53-4e71-b549-14f702b60446\" name=\"files[]\" multiple disabled\n",
              "        style=\"border:none\" />\n",
              "     <output id=\"result-8c86437c-0e53-4e71-b549-14f702b60446\">\n",
              "      Upload widget is only available when the cell has been executed in the\n",
              "      current browser session. Please rerun this cell to enable.\n",
              "      </output>\n",
              "      <script>// Copyright 2017 Google LLC\n",
              "//\n",
              "// Licensed under the Apache License, Version 2.0 (the \"License\");\n",
              "// you may not use this file except in compliance with the License.\n",
              "// You may obtain a copy of the License at\n",
              "//\n",
              "//      http://www.apache.org/licenses/LICENSE-2.0\n",
              "//\n",
              "// Unless required by applicable law or agreed to in writing, software\n",
              "// distributed under the License is distributed on an \"AS IS\" BASIS,\n",
              "// WITHOUT WARRANTIES OR CONDITIONS OF ANY KIND, either express or implied.\n",
              "// See the License for the specific language governing permissions and\n",
              "// limitations under the License.\n",
              "\n",
              "/**\n",
              " * @fileoverview Helpers for google.colab Python module.\n",
              " */\n",
              "(function(scope) {\n",
              "function span(text, styleAttributes = {}) {\n",
              "  const element = document.createElement('span');\n",
              "  element.textContent = text;\n",
              "  for (const key of Object.keys(styleAttributes)) {\n",
              "    element.style[key] = styleAttributes[key];\n",
              "  }\n",
              "  return element;\n",
              "}\n",
              "\n",
              "// Max number of bytes which will be uploaded at a time.\n",
              "const MAX_PAYLOAD_SIZE = 100 * 1024;\n",
              "\n",
              "function _uploadFiles(inputId, outputId) {\n",
              "  const steps = uploadFilesStep(inputId, outputId);\n",
              "  const outputElement = document.getElementById(outputId);\n",
              "  // Cache steps on the outputElement to make it available for the next call\n",
              "  // to uploadFilesContinue from Python.\n",
              "  outputElement.steps = steps;\n",
              "\n",
              "  return _uploadFilesContinue(outputId);\n",
              "}\n",
              "\n",
              "// This is roughly an async generator (not supported in the browser yet),\n",
              "// where there are multiple asynchronous steps and the Python side is going\n",
              "// to poll for completion of each step.\n",
              "// This uses a Promise to block the python side on completion of each step,\n",
              "// then passes the result of the previous step as the input to the next step.\n",
              "function _uploadFilesContinue(outputId) {\n",
              "  const outputElement = document.getElementById(outputId);\n",
              "  const steps = outputElement.steps;\n",
              "\n",
              "  const next = steps.next(outputElement.lastPromiseValue);\n",
              "  return Promise.resolve(next.value.promise).then((value) => {\n",
              "    // Cache the last promise value to make it available to the next\n",
              "    // step of the generator.\n",
              "    outputElement.lastPromiseValue = value;\n",
              "    return next.value.response;\n",
              "  });\n",
              "}\n",
              "\n",
              "/**\n",
              " * Generator function which is called between each async step of the upload\n",
              " * process.\n",
              " * @param {string} inputId Element ID of the input file picker element.\n",
              " * @param {string} outputId Element ID of the output display.\n",
              " * @return {!Iterable<!Object>} Iterable of next steps.\n",
              " */\n",
              "function* uploadFilesStep(inputId, outputId) {\n",
              "  const inputElement = document.getElementById(inputId);\n",
              "  inputElement.disabled = false;\n",
              "\n",
              "  const outputElement = document.getElementById(outputId);\n",
              "  outputElement.innerHTML = '';\n",
              "\n",
              "  const pickedPromise = new Promise((resolve) => {\n",
              "    inputElement.addEventListener('change', (e) => {\n",
              "      resolve(e.target.files);\n",
              "    });\n",
              "  });\n",
              "\n",
              "  const cancel = document.createElement('button');\n",
              "  inputElement.parentElement.appendChild(cancel);\n",
              "  cancel.textContent = 'Cancel upload';\n",
              "  const cancelPromise = new Promise((resolve) => {\n",
              "    cancel.onclick = () => {\n",
              "      resolve(null);\n",
              "    };\n",
              "  });\n",
              "\n",
              "  // Wait for the user to pick the files.\n",
              "  const files = yield {\n",
              "    promise: Promise.race([pickedPromise, cancelPromise]),\n",
              "    response: {\n",
              "      action: 'starting',\n",
              "    }\n",
              "  };\n",
              "\n",
              "  cancel.remove();\n",
              "\n",
              "  // Disable the input element since further picks are not allowed.\n",
              "  inputElement.disabled = true;\n",
              "\n",
              "  if (!files) {\n",
              "    return {\n",
              "      response: {\n",
              "        action: 'complete',\n",
              "      }\n",
              "    };\n",
              "  }\n",
              "\n",
              "  for (const file of files) {\n",
              "    const li = document.createElement('li');\n",
              "    li.append(span(file.name, {fontWeight: 'bold'}));\n",
              "    li.append(span(\n",
              "        `(${file.type || 'n/a'}) - ${file.size} bytes, ` +\n",
              "        `last modified: ${\n",
              "            file.lastModifiedDate ? file.lastModifiedDate.toLocaleDateString() :\n",
              "                                    'n/a'} - `));\n",
              "    const percent = span('0% done');\n",
              "    li.appendChild(percent);\n",
              "\n",
              "    outputElement.appendChild(li);\n",
              "\n",
              "    const fileDataPromise = new Promise((resolve) => {\n",
              "      const reader = new FileReader();\n",
              "      reader.onload = (e) => {\n",
              "        resolve(e.target.result);\n",
              "      };\n",
              "      reader.readAsArrayBuffer(file);\n",
              "    });\n",
              "    // Wait for the data to be ready.\n",
              "    let fileData = yield {\n",
              "      promise: fileDataPromise,\n",
              "      response: {\n",
              "        action: 'continue',\n",
              "      }\n",
              "    };\n",
              "\n",
              "    // Use a chunked sending to avoid message size limits. See b/62115660.\n",
              "    let position = 0;\n",
              "    do {\n",
              "      const length = Math.min(fileData.byteLength - position, MAX_PAYLOAD_SIZE);\n",
              "      const chunk = new Uint8Array(fileData, position, length);\n",
              "      position += length;\n",
              "\n",
              "      const base64 = btoa(String.fromCharCode.apply(null, chunk));\n",
              "      yield {\n",
              "        response: {\n",
              "          action: 'append',\n",
              "          file: file.name,\n",
              "          data: base64,\n",
              "        },\n",
              "      };\n",
              "\n",
              "      let percentDone = fileData.byteLength === 0 ?\n",
              "          100 :\n",
              "          Math.round((position / fileData.byteLength) * 100);\n",
              "      percent.textContent = `${percentDone}% done`;\n",
              "\n",
              "    } while (position < fileData.byteLength);\n",
              "  }\n",
              "\n",
              "  // All done.\n",
              "  yield {\n",
              "    response: {\n",
              "      action: 'complete',\n",
              "    }\n",
              "  };\n",
              "}\n",
              "\n",
              "scope.google = scope.google || {};\n",
              "scope.google.colab = scope.google.colab || {};\n",
              "scope.google.colab._files = {\n",
              "  _uploadFiles,\n",
              "  _uploadFilesContinue,\n",
              "};\n",
              "})(self);\n",
              "</script> "
            ]
          },
          "metadata": {}
        },
        {
          "output_type": "stream",
          "name": "stdout",
          "text": [
            "Saving instruction_data.jsonl to instruction_data (1).jsonl\n"
          ]
        }
      ],
      "source": [
        "# choose instruction_data.jsonl\n",
        "from google.colab import files\n",
        "uploaded = files.upload()\n"
      ]
    },
    {
      "cell_type": "code",
      "execution_count": 3,
      "metadata": {
        "id": "corWchNr0R4P",
        "colab": {
          "base_uri": "https://localhost:8080/",
          "height": 156,
          "referenced_widgets": [
            "a71608939d074662a0b53f1c368a52eb",
            "caf2e86864284b50ae63cb69697ccf81",
            "eb1fa60358f448d0b4f77a139da97c32",
            "e245b16efc8e4410b39f75dfb0fa768d",
            "20030aae8f4540df94e28fb31998292c",
            "6e78e10bf73645b9bb77514a8fa103db",
            "0efa7e8d053e4e14a3b24de31a71cac6",
            "ae7f7c78304f4061a9b44f936d0299c1",
            "ac6c8ebf48414dfdb58701df0c4ede03",
            "5cb925ca297848c590ce9b1696a0538f",
            "2a0d33559f47411fb90a78132540fe03"
          ]
        },
        "outputId": "84bf9c1c-26c4-4161-d638-f06e0ae6a7c3"
      },
      "outputs": [
        {
          "output_type": "stream",
          "name": "stderr",
          "text": [
            "/usr/local/lib/python3.11/dist-packages/huggingface_hub/utils/_auth.py:94: UserWarning: \n",
            "The secret `HF_TOKEN` does not exist in your Colab secrets.\n",
            "To authenticate with the Hugging Face Hub, create a token in your settings tab (https://huggingface.co/settings/tokens), set it as secret in your Google Colab and restart your session.\n",
            "You will be able to reuse this secret in all of your notebooks.\n",
            "Please note that authentication is recommended but still optional to access public models or datasets.\n",
            "  warnings.warn(\n"
          ]
        },
        {
          "output_type": "display_data",
          "data": {
            "text/plain": [
              "Map:   0%|          | 0/58 [00:00<?, ? examples/s]"
            ],
            "application/vnd.jupyter.widget-view+json": {
              "version_major": 2,
              "version_minor": 0,
              "model_id": "a71608939d074662a0b53f1c368a52eb"
            }
          },
          "metadata": {}
        }
      ],
      "source": [
        "# 🧠 Step 3: Load dataset and model\n",
        "from datasets import Dataset\n",
        "from transformers import GPT2Tokenizer, GPT2LMHeadModel, Trainer, TrainingArguments\n",
        "import pandas as pd\n",
        "\n",
        "# Load the dataset\n",
        "df = pd.read_json(\"instruction_data.jsonl\", lines=True)\n",
        "dataset = Dataset.from_pandas(df)\n",
        "\n",
        "# Load tokenizer\n",
        "tokenizer = GPT2Tokenizer.from_pretrained(\"gpt2\")\n",
        "tokenizer.pad_token = tokenizer.eos_token  # GPT-2 doesn't have a pad token\n",
        "\n",
        "# Tokenize with labels\n",
        "def tokenize(example):\n",
        "    tokens = tokenizer(example[\"text\"], truncation=True, padding=\"max_length\", max_length=256)\n",
        "    tokens[\"labels\"] = tokens[\"input_ids\"].copy()\n",
        "    return tokens\n",
        "\n",
        "tokenized = dataset.map(tokenize, batched=True, remove_columns=[\"text\"])\n",
        "\n",
        "# Load GPT-2 model\n",
        "model = GPT2LMHeadModel.from_pretrained(\"gpt2\")\n"
      ]
    },
    {
      "cell_type": "code",
      "execution_count": 4,
      "metadata": {
        "id": "9qxxdUJ10xzh",
        "colab": {
          "base_uri": "https://localhost:8080/"
        },
        "outputId": "70d2f724-2a15-4d5e-da74-e7164a29acd0"
      },
      "outputs": [
        {
          "output_type": "stream",
          "name": "stderr",
          "text": [
            "/tmp/ipython-input-4-2062331878.py:11: FutureWarning: `tokenizer` is deprecated and will be removed in version 5.0.0 for `Trainer.__init__`. Use `processing_class` instead.\n",
            "  trainer = Trainer(\n"
          ]
        }
      ],
      "source": [
        "# ⚙️ Step 4: Set up training\n",
        "training_args = TrainingArguments(\n",
        "    output_dir=\"./gpt2-tasker\",\n",
        "    per_device_train_batch_size=4,  # Increased batch size\n",
        "    num_train_epochs=5,  # Increased epochs\n",
        "    save_steps=100,\n",
        "    logging_steps=50,\n",
        "    report_to=\"none\",\n",
        ")\n",
        "\n",
        "trainer = Trainer(\n",
        "    model=model,\n",
        "    args=training_args,\n",
        "    train_dataset=tokenized,\n",
        "    tokenizer=tokenizer,\n",
        ")\n"
      ]
    },
    {
      "cell_type": "code",
      "execution_count": 5,
      "metadata": {
        "id": "4ce77c20",
        "colab": {
          "base_uri": "https://localhost:8080/",
          "height": 216
        },
        "outputId": "453a9a78-cb6b-489f-854e-2b28b8bf378d"
      },
      "outputs": [
        {
          "output_type": "stream",
          "name": "stderr",
          "text": [
            "`loss_type=None` was set in the config but it is unrecognised.Using the default loss: `ForCausalLMLoss`.\n"
          ]
        },
        {
          "output_type": "display_data",
          "data": {
            "text/plain": [
              "<IPython.core.display.HTML object>"
            ],
            "text/html": [
              "\n",
              "    <div>\n",
              "      \n",
              "      <progress value='75' max='75' style='width:300px; height:20px; vertical-align: middle;'></progress>\n",
              "      [75/75 00:42, Epoch 5/5]\n",
              "    </div>\n",
              "    <table border=\"1\" class=\"dataframe\">\n",
              "  <thead>\n",
              " <tr style=\"text-align: left;\">\n",
              "      <th>Step</th>\n",
              "      <th>Training Loss</th>\n",
              "    </tr>\n",
              "  </thead>\n",
              "  <tbody>\n",
              "    <tr>\n",
              "      <td>50</td>\n",
              "      <td>0.617100</td>\n",
              "    </tr>\n",
              "  </tbody>\n",
              "</table><p>"
            ]
          },
          "metadata": {}
        },
        {
          "output_type": "execute_result",
          "data": {
            "text/plain": [
              "('./gpt2-tasker/tokenizer_config.json',\n",
              " './gpt2-tasker/special_tokens_map.json',\n",
              " './gpt2-tasker/vocab.json',\n",
              " './gpt2-tasker/merges.txt',\n",
              " './gpt2-tasker/added_tokens.json')"
            ]
          },
          "metadata": {},
          "execution_count": 5
        }
      ],
      "source": [
        "# 🚀 Step 5: Train!\n",
        "trainer.train()\n",
        "# Save the fine-tuned model for pipeline use\n",
        "trainer.save_model(\"./gpt2-tasker\")\n",
        "tokenizer.save_pretrained(\"./gpt2-tasker\")\n"
      ]
    },
    {
      "cell_type": "code",
      "execution_count": 6,
      "metadata": {
        "id": "SKGNIxS82HRv",
        "colab": {
          "base_uri": "https://localhost:8080/"
        },
        "outputId": "4349406c-85d1-445a-988e-3e54fa36fb5f"
      },
      "outputs": [
        {
          "output_type": "stream",
          "name": "stderr",
          "text": [
            "Device set to use cuda:0\n",
            "Truncation was not explicitly activated but `max_length` is provided a specific value, please use `truncation=True` to explicitly truncate examples to max length. Defaulting to 'longest_first' truncation strategy. If you encode pairs of sequences (GLUE-style) with the tokenizer you can select this strategy more precisely by providing a specific strategy to `truncation`.\n",
            "Both `max_new_tokens` (=256) and `max_length`(=150) seem to have been set. `max_new_tokens` will take precedence. Please refer to the documentation for more information. (https://huggingface.co/docs/transformers/main/en/main_classes/text_generation)\n"
          ]
        },
        {
          "output_type": "stream",
          "name": "stdout",
          "text": [
            "User: create a task called dentist\n",
            "Assistant:\n",
            "Dentist task added.\n",
            "[TASK: Dentist | TIME: 07:00]\n"
          ]
        }
      ],
      "source": [
        "# 🧪 Step 6: Try generating a response\n",
        "from transformers import pipeline\n",
        "\n",
        "generator = pipeline(\"text-generation\", model=\"./gpt2-tasker\", tokenizer=tokenizer)\n",
        "\n",
        "prompt = \"User: create a task called dentist\\nAssistant:\\n\"\n",
        "output = generator(prompt, max_length=150, do_sample=True, temperature=0.7, top_p=0.9)[0][\"generated_text\"]\n",
        "\n",
        "print(output)\n"
      ]
    },
    {
      "cell_type": "code",
      "execution_count": 7,
      "metadata": {
        "id": "XB-8lo2P3QnQ",
        "colab": {
          "base_uri": "https://localhost:8080/"
        },
        "outputId": "4cb8d741-aade-4537-cbfe-2667c22b52f7"
      },
      "outputs": [
        {
          "output_type": "stream",
          "name": "stderr",
          "text": [
            "Device set to use cuda:0\n"
          ]
        },
        {
          "output_type": "stream",
          "name": "stdout",
          "text": [
            "User: create a task called dentist\n",
            "Assistant:\n",
            "Dentist task added.\n",
            "[TASK: Dentist | TIME: 11:00]\n"
          ]
        }
      ],
      "source": [
        "from transformers import pipeline\n",
        "\n",
        "# Load the pipeline with the trained model and tokenizer\n",
        "generator = pipeline(\"text-generation\", model=\"./gpt2-tasker\", tokenizer=\"./gpt2-tasker\", device=0)  # cuda:0\n",
        "\n",
        "prompt = \"User: create a task called dentist\\nAssistant:\\n\"\n",
        "\n",
        "# Generate text with adjusted parameters\n",
        "output = generator(\n",
        "    prompt,\n",
        "    max_new_tokens=50, # Reduced max_new_tokens\n",
        "    temperature=0.8, # Increased temperature for more randomness\n",
        "    top_p=0.95, # Adjusted top_p\n",
        "    do_sample=True,\n",
        "    pad_token_id=tokenizer.eos_token_id,\n",
        ")\n",
        "\n",
        "generated_text = output[0][\"generated_text\"]\n",
        "\n",
        "print(generated_text)"
      ]
    },
    {
      "cell_type": "markdown",
      "metadata": {
        "id": "qdLPyPoX7v86"
      },
      "source": [
        "second try\n"
      ]
    },
    {
      "cell_type": "markdown",
      "metadata": {
        "id": "979NkT8FDJOv"
      },
      "source": [
        "DistilGPT-2"
      ]
    },
    {
      "cell_type": "code",
      "execution_count": 8,
      "metadata": {
        "id": "qWJD4dMEDEZf",
        "colab": {
          "base_uri": "https://localhost:8080/"
        },
        "outputId": "d4fac5bc-816f-40a8-ab7d-9df779c2a60e"
      },
      "outputs": [
        {
          "output_type": "stream",
          "name": "stderr",
          "text": [
            "Device set to use cuda:0\n",
            "Setting `pad_token_id` to `eos_token_id`:50256 for open-end generation.\n"
          ]
        },
        {
          "output_type": "stream",
          "name": "stdout",
          "text": [
            "User: create a task called dentist\n",
            "Assistant:\n",
            "Assistant:\n",
            "Assistant:\n",
            "Assistant:\n",
            "Assistant:\n",
            "Assistant:\n",
            "Assistant:\n",
            "Assistant:\n",
            "Assistant:\n",
            "Assistant:\n",
            "Assistant:\n",
            "Assistant:\n",
            "Assistant:\n",
            "Assistant:\n",
            "Assistant:\n",
            "Assistant:\n",
            "Assistant:\n",
            "Assistant:\n"
          ]
        }
      ],
      "source": [
        "from transformers import pipeline\n",
        "\n",
        "generator = pipeline(\"text-generation\", model=\"distilgpt2\", device=0)\n",
        "\n",
        "output = generator(\n",
        "    \"User: create a task called dentist\\nAssistant:\\n\",\n",
        "    max_new_tokens=50,\n",
        "    temperature=0.7,\n",
        "    top_p=0.9,\n",
        "    do_sample=True,\n",
        ")\n",
        "\n",
        "print(output[0][\"generated_text\"])\n"
      ]
    },
    {
      "cell_type": "markdown",
      "metadata": {
        "id": "JLWPxoA6DL0L"
      },
      "source": [
        "BART"
      ]
    },
    {
      "cell_type": "code",
      "execution_count": 9,
      "metadata": {
        "id": "uKArz1jdDRf_",
        "colab": {
          "base_uri": "https://localhost:8080/"
        },
        "outputId": "4e8b4dbb-ab23-48be-ffc7-f878edf0da70"
      },
      "outputs": [
        {
          "output_type": "stream",
          "name": "stderr",
          "text": [
            "Device set to use cuda:0\n",
            "Both `max_new_tokens` (=256) and `max_length`(=50) seem to have been set. `max_new_tokens` will take precedence. Please refer to the documentation for more information. (https://huggingface.co/docs/transformers/main/en/main_classes/text_generation)\n"
          ]
        },
        {
          "output_type": "stream",
          "name": "stdout",
          "text": [
            "User: create a task called dentistAssistant:\n"
          ]
        }
      ],
      "source": [
        "from transformers import pipeline\n",
        "\n",
        "# Carrega o modelo BART pré-treinado\n",
        "bart_generator = pipeline(\"text2text-generation\", model=\"facebook/bart-large\", device=0)\n",
        "\n",
        "prompt = \"User: create a task called dentist\\nAssistant:\"\n",
        "\n",
        "output = bart_generator(\n",
        "    prompt,\n",
        "    max_length=50,\n",
        "    do_sample=True,\n",
        "    temperature=0.7,\n",
        "    top_p=0.9,\n",
        ")\n",
        "\n",
        "print(output[0]['generated_text'])\n"
      ]
    },
    {
      "cell_type": "markdown",
      "metadata": {
        "id": "nwuaYk2-HLNt"
      },
      "source": [
        "final test w gpt2\n"
      ]
    },
    {
      "cell_type": "code",
      "execution_count": 10,
      "metadata": {
        "id": "UYxBfHezFTZw",
        "colab": {
          "base_uri": "https://localhost:8080/"
        },
        "outputId": "9a4ed017-943c-4772-d831-b1fdc0c8d8e5"
      },
      "outputs": [
        {
          "output_type": "stream",
          "name": "stderr",
          "text": [
            "Device set to use cuda:0\n"
          ]
        },
        {
          "output_type": "stream",
          "name": "stdout",
          "text": [
            "Prompt: User: create a task to buy groceries\n",
            "Assistant:\n",
            "\n",
            "Generated Output: User: create a task to buy groceries\n",
            "Assistant:\n",
            "Groceries task added.\n",
            "[TASK: Buy groceries | TIME: 08:00]\n",
            "Expected Output: [TASK: Buy groceries | TIME: 17:00]\n",
            "--------------------------------------------------\n",
            "Prompt: User: remind me to call the doctor\n",
            "Assistant:\n",
            "\n",
            "Generated Output: User: remind me to call the doctor\n",
            "Assistant:\n",
            "Doctor call.\n",
            "[TASK: Call doctor | TIME: 19:00]\n",
            "Expected Output: [TASK: Call doctor | TIME: 10:30]\n",
            "--------------------------------------------------\n",
            "Prompt: User: schedule a meeting with the project team\n",
            "Assistant:\n",
            "\n",
            "Generated Output: User: schedule a meeting with the project team\n",
            "Assistant:\n",
            "Meeting scheduled with the project team.\n",
            "[TASK: Project team meeting | TIME: 14:00]\n",
            "Expected Output: [TASK: Project team meeting | TIME: 14:00]\n",
            "--------------------------------------------------\n",
            "Prompt: User: create a task for laundry\n",
            "Assistant:\n",
            "\n",
            "Generated Output: User: create a task for laundry\n",
            "Assistant:\n",
            "Drying task added.\n",
            "[TASK: Clean laundry | TIME: 19:00]\n",
            "Expected Output: [TASK: Do laundry | TIME: 13:00]\n",
            "--------------------------------------------------\n",
            "Prompt: User: remind me to water the plants\n",
            "Assistant:\n",
            "\n",
            "Generated Output: User: remind me to water the plants\n",
            "Assistant:\n",
            "Water plants reminder set.\n",
            "[TASK: Water plants | TIME: 07:00]\n",
            "Expected Output: [TASK: Water plants | TIME: 09:00]\n",
            "--------------------------------------------------\n",
            "Prompt: User: create a task to finish the report\n",
            "Assistant:\n",
            "\n",
            "Generated Output: User: create a task to finish the report\n",
            "Assistant:\n",
            "Report finishing task added.\n",
            "[TASK: Finish report | TIME: 08:00]\n",
            "Expected Output: [TASK: Finish report | TIME: 16:00]\n",
            "--------------------------------------------------\n",
            "Prompt: User: add a task for a dentist appointment\n",
            "Assistant:\n",
            "\n",
            "Generated Output: User: add a task for a dentist appointment\n",
            "Assistant:\n",
            "Dentist appointment task added.\n",
            "[TASK: Dentist appointment | TIME: 18:00]\n",
            "Expected Output: [TASK: Dentist appointment | TIME: 11:00]\n",
            "--------------------------------------------------\n",
            "Prompt: User: schedule a workout session\n",
            "Assistant:\n",
            "\n",
            "Generated Output: User: schedule a workout session\n",
            "Assistant:\n",
            "Workout session scheduled.\n",
            "[TASK: Workout session | TIME: 16:00]\n",
            "Expected Output: [TASK: Workout session | TIME: 06:30]\n",
            "--------------------------------------------------\n"
          ]
        }
      ],
      "source": [
        "# Test the fine-tuned model with various prompts\n",
        "from transformers import pipeline\n",
        "\n",
        "# Load the pipeline with the trained model and tokenizer\n",
        "generator = pipeline(\"text-generation\", model=\"./gpt2-tasker\", tokenizer=\"./gpt2-tasker\", device=0)  # cuda:0\n",
        "\n",
        "# Define test prompts and expected outputs\n",
        "test_cases = [\n",
        "    {\n",
        "        \"prompt\": \"User: create a task to buy groceries\\nAssistant:\\n\",\n",
        "        \"expected\": \"[TASK: Buy groceries | TIME: 17:00]\"\n",
        "    },\n",
        "    {\n",
        "        \"prompt\": \"User: remind me to call the doctor\\nAssistant:\\n\",\n",
        "        \"expected\": \"[TASK: Call doctor | TIME: 10:30]\"\n",
        "    },\n",
        "    {\n",
        "        \"prompt\": \"User: schedule a meeting with the project team\\nAssistant:\\n\",\n",
        "        \"expected\": \"[TASK: Project team meeting | TIME: 14:00]\"\n",
        "    },\n",
        "    {\n",
        "        \"prompt\": \"User: create a task for laundry\\nAssistant:\\n\",\n",
        "        \"expected\": \"[TASK: Do laundry | TIME: 13:00]\"\n",
        "    },\n",
        "    {\n",
        "        \"prompt\": \"User: remind me to water the plants\\nAssistant:\\n\",\n",
        "        \"expected\": \"[TASK: Water plants | TIME: 09:00]\"\n",
        "    },\n",
        "    {\n",
        "        \"prompt\": \"User: create a task to finish the report\\nAssistant:\\n\",\n",
        "        \"expected\": \"[TASK: Finish report | TIME: 16:00]\"\n",
        "    },\n",
        "    {\n",
        "        \"prompt\": \"User: add a task for a dentist appointment\\nAssistant:\\n\",\n",
        "        \"expected\": \"[TASK: Dentist appointment | TIME: 11:00]\"\n",
        "    },\n",
        "    {\n",
        "        \"prompt\": \"User: schedule a workout session\\nAssistant:\\n\",\n",
        "        \"expected\": \"[TASK: Workout session | TIME: 06:30]\"\n",
        "    },\n",
        "]\n",
        "\n",
        "# Run the tests\n",
        "for case in test_cases:\n",
        "    output = generator(case[\"prompt\"], max_new_tokens=50, temperature=0.8, top_p=0.95, do_sample=True, pad_token_id=tokenizer.eos_token_id)\n",
        "    generated_text = output[0][\"generated_text\"]\n",
        "\n",
        "    print(f\"Prompt: {case['prompt']}\")\n",
        "    print(f\"Generated Output: {generated_text.strip()}\")\n",
        "    print(f\"Expected Output: {case['expected']}\")\n",
        "    print(\"-\" * 50)\n"
      ]
    },
    {
      "cell_type": "markdown",
      "metadata": {
        "id": "KRtZNprmHWaM"
      },
      "source": [
        "# **download the trained model**"
      ]
    },
    {
      "cell_type": "code",
      "execution_count": null,
      "metadata": {
        "id": "yqhr841lHVcw",
        "colab": {
          "base_uri": "https://localhost:8080/"
        },
        "outputId": "c4a8480c-1fa9-4345-a054-68b2b6f069d7"
      },
      "outputs": [
        {
          "output_type": "stream",
          "name": "stdout",
          "text": [
            "updating: gpt2-tasker/ (stored 0%)\n",
            "updating: gpt2-tasker/vocab.json (deflated 68%)\n",
            "updating: gpt2-tasker/merges.txt (deflated 53%)\n",
            "updating: gpt2-tasker/checkpoint-75/ (stored 0%)\n",
            "updating: gpt2-tasker/checkpoint-75/vocab.json (deflated 68%)\n",
            "updating: gpt2-tasker/checkpoint-75/merges.txt (deflated 53%)\n",
            "updating: gpt2-tasker/checkpoint-75/rng_state.pth (deflated 25%)\n",
            "updating: gpt2-tasker/checkpoint-75/special_tokens_map.json (deflated 74%)\n",
            "updating: gpt2-tasker/checkpoint-75/trainer_state.json (deflated 56%)\n",
            "updating: gpt2-tasker/checkpoint-75/scheduler.pt (deflated 56%)\n",
            "updating: gpt2-tasker/checkpoint-75/training_args.bin (deflated 52%)\n",
            "updating: gpt2-tasker/checkpoint-75/optimizer.pt (deflated 8%)\n",
            "updating: gpt2-tasker/checkpoint-75/model.safetensors (deflated 7%)\n",
            "updating: gpt2-tasker/checkpoint-75/tokenizer_config.json (deflated 56%)\n",
            "updating: gpt2-tasker/checkpoint-75/config.json (deflated 51%)\n",
            "updating: gpt2-tasker/checkpoint-75/generation_config.json (deflated 24%)\n",
            "updating: gpt2-tasker/special_tokens_map.json (deflated 74%)\n",
            "updating: gpt2-tasker/checkpoint-65/ (stored 0%)\n",
            "updating: gpt2-tasker/checkpoint-65/vocab.json (deflated 68%)\n",
            "updating: gpt2-tasker/checkpoint-65/merges.txt (deflated 53%)\n",
            "updating: gpt2-tasker/checkpoint-65/rng_state.pth (deflated 25%)\n",
            "updating: gpt2-tasker/checkpoint-65/special_tokens_map.json (deflated 74%)\n",
            "updating: gpt2-tasker/checkpoint-65/trainer_state.json (deflated 55%)\n",
            "updating: gpt2-tasker/checkpoint-65/scheduler.pt (deflated 57%)\n",
            "updating: gpt2-tasker/checkpoint-65/training_args.bin (deflated 52%)\n",
            "updating: gpt2-tasker/checkpoint-65/optimizer.pt"
          ]
        }
      ],
      "source": [
        "!zip -r gpt2-tasker.zip gpt2-tasker\n"
      ]
    }
  ],
  "metadata": {
    "accelerator": "GPU",
    "colab": {
      "gpuType": "T4",
      "provenance": []
    },
    "kernelspec": {
      "display_name": "Python 3",
      "name": "python3"
    },
    "language_info": {
      "name": "python"
    },
    "widgets": {
      "application/vnd.jupyter.widget-state+json": {
        "a71608939d074662a0b53f1c368a52eb": {
          "model_module": "@jupyter-widgets/controls",
          "model_name": "HBoxModel",
          "model_module_version": "1.5.0",
          "state": {
            "_dom_classes": [],
            "_model_module": "@jupyter-widgets/controls",
            "_model_module_version": "1.5.0",
            "_model_name": "HBoxModel",
            "_view_count": null,
            "_view_module": "@jupyter-widgets/controls",
            "_view_module_version": "1.5.0",
            "_view_name": "HBoxView",
            "box_style": "",
            "children": [
              "IPY_MODEL_caf2e86864284b50ae63cb69697ccf81",
              "IPY_MODEL_eb1fa60358f448d0b4f77a139da97c32",
              "IPY_MODEL_e245b16efc8e4410b39f75dfb0fa768d"
            ],
            "layout": "IPY_MODEL_20030aae8f4540df94e28fb31998292c"
          }
        },
        "caf2e86864284b50ae63cb69697ccf81": {
          "model_module": "@jupyter-widgets/controls",
          "model_name": "HTMLModel",
          "model_module_version": "1.5.0",
          "state": {
            "_dom_classes": [],
            "_model_module": "@jupyter-widgets/controls",
            "_model_module_version": "1.5.0",
            "_model_name": "HTMLModel",
            "_view_count": null,
            "_view_module": "@jupyter-widgets/controls",
            "_view_module_version": "1.5.0",
            "_view_name": "HTMLView",
            "description": "",
            "description_tooltip": null,
            "layout": "IPY_MODEL_6e78e10bf73645b9bb77514a8fa103db",
            "placeholder": "​",
            "style": "IPY_MODEL_0efa7e8d053e4e14a3b24de31a71cac6",
            "value": "Map: 100%"
          }
        },
        "eb1fa60358f448d0b4f77a139da97c32": {
          "model_module": "@jupyter-widgets/controls",
          "model_name": "FloatProgressModel",
          "model_module_version": "1.5.0",
          "state": {
            "_dom_classes": [],
            "_model_module": "@jupyter-widgets/controls",
            "_model_module_version": "1.5.0",
            "_model_name": "FloatProgressModel",
            "_view_count": null,
            "_view_module": "@jupyter-widgets/controls",
            "_view_module_version": "1.5.0",
            "_view_name": "ProgressView",
            "bar_style": "success",
            "description": "",
            "description_tooltip": null,
            "layout": "IPY_MODEL_ae7f7c78304f4061a9b44f936d0299c1",
            "max": 58,
            "min": 0,
            "orientation": "horizontal",
            "style": "IPY_MODEL_ac6c8ebf48414dfdb58701df0c4ede03",
            "value": 58
          }
        },
        "e245b16efc8e4410b39f75dfb0fa768d": {
          "model_module": "@jupyter-widgets/controls",
          "model_name": "HTMLModel",
          "model_module_version": "1.5.0",
          "state": {
            "_dom_classes": [],
            "_model_module": "@jupyter-widgets/controls",
            "_model_module_version": "1.5.0",
            "_model_name": "HTMLModel",
            "_view_count": null,
            "_view_module": "@jupyter-widgets/controls",
            "_view_module_version": "1.5.0",
            "_view_name": "HTMLView",
            "description": "",
            "description_tooltip": null,
            "layout": "IPY_MODEL_5cb925ca297848c590ce9b1696a0538f",
            "placeholder": "​",
            "style": "IPY_MODEL_2a0d33559f47411fb90a78132540fe03",
            "value": " 58/58 [00:00&lt;00:00, 781.38 examples/s]"
          }
        },
        "20030aae8f4540df94e28fb31998292c": {
          "model_module": "@jupyter-widgets/base",
          "model_name": "LayoutModel",
          "model_module_version": "1.2.0",
          "state": {
            "_model_module": "@jupyter-widgets/base",
            "_model_module_version": "1.2.0",
            "_model_name": "LayoutModel",
            "_view_count": null,
            "_view_module": "@jupyter-widgets/base",
            "_view_module_version": "1.2.0",
            "_view_name": "LayoutView",
            "align_content": null,
            "align_items": null,
            "align_self": null,
            "border": null,
            "bottom": null,
            "display": null,
            "flex": null,
            "flex_flow": null,
            "grid_area": null,
            "grid_auto_columns": null,
            "grid_auto_flow": null,
            "grid_auto_rows": null,
            "grid_column": null,
            "grid_gap": null,
            "grid_row": null,
            "grid_template_areas": null,
            "grid_template_columns": null,
            "grid_template_rows": null,
            "height": null,
            "justify_content": null,
            "justify_items": null,
            "left": null,
            "margin": null,
            "max_height": null,
            "max_width": null,
            "min_height": null,
            "min_width": null,
            "object_fit": null,
            "object_position": null,
            "order": null,
            "overflow": null,
            "overflow_x": null,
            "overflow_y": null,
            "padding": null,
            "right": null,
            "top": null,
            "visibility": null,
            "width": null
          }
        },
        "6e78e10bf73645b9bb77514a8fa103db": {
          "model_module": "@jupyter-widgets/base",
          "model_name": "LayoutModel",
          "model_module_version": "1.2.0",
          "state": {
            "_model_module": "@jupyter-widgets/base",
            "_model_module_version": "1.2.0",
            "_model_name": "LayoutModel",
            "_view_count": null,
            "_view_module": "@jupyter-widgets/base",
            "_view_module_version": "1.2.0",
            "_view_name": "LayoutView",
            "align_content": null,
            "align_items": null,
            "align_self": null,
            "border": null,
            "bottom": null,
            "display": null,
            "flex": null,
            "flex_flow": null,
            "grid_area": null,
            "grid_auto_columns": null,
            "grid_auto_flow": null,
            "grid_auto_rows": null,
            "grid_column": null,
            "grid_gap": null,
            "grid_row": null,
            "grid_template_areas": null,
            "grid_template_columns": null,
            "grid_template_rows": null,
            "height": null,
            "justify_content": null,
            "justify_items": null,
            "left": null,
            "margin": null,
            "max_height": null,
            "max_width": null,
            "min_height": null,
            "min_width": null,
            "object_fit": null,
            "object_position": null,
            "order": null,
            "overflow": null,
            "overflow_x": null,
            "overflow_y": null,
            "padding": null,
            "right": null,
            "top": null,
            "visibility": null,
            "width": null
          }
        },
        "0efa7e8d053e4e14a3b24de31a71cac6": {
          "model_module": "@jupyter-widgets/controls",
          "model_name": "DescriptionStyleModel",
          "model_module_version": "1.5.0",
          "state": {
            "_model_module": "@jupyter-widgets/controls",
            "_model_module_version": "1.5.0",
            "_model_name": "DescriptionStyleModel",
            "_view_count": null,
            "_view_module": "@jupyter-widgets/base",
            "_view_module_version": "1.2.0",
            "_view_name": "StyleView",
            "description_width": ""
          }
        },
        "ae7f7c78304f4061a9b44f936d0299c1": {
          "model_module": "@jupyter-widgets/base",
          "model_name": "LayoutModel",
          "model_module_version": "1.2.0",
          "state": {
            "_model_module": "@jupyter-widgets/base",
            "_model_module_version": "1.2.0",
            "_model_name": "LayoutModel",
            "_view_count": null,
            "_view_module": "@jupyter-widgets/base",
            "_view_module_version": "1.2.0",
            "_view_name": "LayoutView",
            "align_content": null,
            "align_items": null,
            "align_self": null,
            "border": null,
            "bottom": null,
            "display": null,
            "flex": null,
            "flex_flow": null,
            "grid_area": null,
            "grid_auto_columns": null,
            "grid_auto_flow": null,
            "grid_auto_rows": null,
            "grid_column": null,
            "grid_gap": null,
            "grid_row": null,
            "grid_template_areas": null,
            "grid_template_columns": null,
            "grid_template_rows": null,
            "height": null,
            "justify_content": null,
            "justify_items": null,
            "left": null,
            "margin": null,
            "max_height": null,
            "max_width": null,
            "min_height": null,
            "min_width": null,
            "object_fit": null,
            "object_position": null,
            "order": null,
            "overflow": null,
            "overflow_x": null,
            "overflow_y": null,
            "padding": null,
            "right": null,
            "top": null,
            "visibility": null,
            "width": null
          }
        },
        "ac6c8ebf48414dfdb58701df0c4ede03": {
          "model_module": "@jupyter-widgets/controls",
          "model_name": "ProgressStyleModel",
          "model_module_version": "1.5.0",
          "state": {
            "_model_module": "@jupyter-widgets/controls",
            "_model_module_version": "1.5.0",
            "_model_name": "ProgressStyleModel",
            "_view_count": null,
            "_view_module": "@jupyter-widgets/base",
            "_view_module_version": "1.2.0",
            "_view_name": "StyleView",
            "bar_color": null,
            "description_width": ""
          }
        },
        "5cb925ca297848c590ce9b1696a0538f": {
          "model_module": "@jupyter-widgets/base",
          "model_name": "LayoutModel",
          "model_module_version": "1.2.0",
          "state": {
            "_model_module": "@jupyter-widgets/base",
            "_model_module_version": "1.2.0",
            "_model_name": "LayoutModel",
            "_view_count": null,
            "_view_module": "@jupyter-widgets/base",
            "_view_module_version": "1.2.0",
            "_view_name": "LayoutView",
            "align_content": null,
            "align_items": null,
            "align_self": null,
            "border": null,
            "bottom": null,
            "display": null,
            "flex": null,
            "flex_flow": null,
            "grid_area": null,
            "grid_auto_columns": null,
            "grid_auto_flow": null,
            "grid_auto_rows": null,
            "grid_column": null,
            "grid_gap": null,
            "grid_row": null,
            "grid_template_areas": null,
            "grid_template_columns": null,
            "grid_template_rows": null,
            "height": null,
            "justify_content": null,
            "justify_items": null,
            "left": null,
            "margin": null,
            "max_height": null,
            "max_width": null,
            "min_height": null,
            "min_width": null,
            "object_fit": null,
            "object_position": null,
            "order": null,
            "overflow": null,
            "overflow_x": null,
            "overflow_y": null,
            "padding": null,
            "right": null,
            "top": null,
            "visibility": null,
            "width": null
          }
        },
        "2a0d33559f47411fb90a78132540fe03": {
          "model_module": "@jupyter-widgets/controls",
          "model_name": "DescriptionStyleModel",
          "model_module_version": "1.5.0",
          "state": {
            "_model_module": "@jupyter-widgets/controls",
            "_model_module_version": "1.5.0",
            "_model_name": "DescriptionStyleModel",
            "_view_count": null,
            "_view_module": "@jupyter-widgets/base",
            "_view_module_version": "1.2.0",
            "_view_name": "StyleView",
            "description_width": ""
          }
        }
      }
    }
  },
  "nbformat": 4,
  "nbformat_minor": 0
}